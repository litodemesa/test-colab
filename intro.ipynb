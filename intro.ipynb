{
  "nbformat": 4,
  "nbformat_minor": 0,
  "metadata": {
    "colab": {
      "provenance": [],
      "mount_file_id": "1Dbr9YYTuAEcrIfGD9SZPO1IA_BFSElyZ",
      "authorship_tag": "ABX9TyNkV66C3S03eQso0TF2YzH/",
      "include_colab_link": true
    },
    "kernelspec": {
      "name": "python3",
      "display_name": "Python 3"
    },
    "language_info": {
      "name": "python"
    }
  },
  "cells": [
    {
      "cell_type": "markdown",
      "metadata": {
        "id": "view-in-github",
        "colab_type": "text"
      },
      "source": [
        "<a href=\"https://colab.research.google.com/github/litodemesa/test-colab/blob/main/intro.ipynb\" target=\"_parent\"><img src=\"https://colab.research.google.com/assets/colab-badge.svg\" alt=\"Open In Colab\"/></a>"
      ]
    },
    {
      "cell_type": "code",
      "execution_count": null,
      "metadata": {
        "colab": {
          "base_uri": "https://localhost:8080/"
        },
        "id": "2d7zWpi2wipU",
        "outputId": "2c27c9eb-9a47-4bfc-9c3a-25d2ae8c1102"
      },
      "outputs": [
        {
          "output_type": "stream",
          "name": "stdout",
          "text": [
            "Hello!\n"
          ]
        }
      ],
      "source": [
        "print(\"Hello!\")"
      ]
    },
    {
      "cell_type": "code",
      "source": [
        "import random\n",
        "\n",
        "def rollDice():\n",
        "    die1 = random.randrange(1, 7)\n",
        "    die2 = random.randrange(1, 7)\n",
        "    workSum = die1 + die2\n",
        "    print(\"Player rolled %d + %d = %d\" %(die1, die2, workSum))\n",
        "\n",
        "    return workSum\n",
        "\n",
        "sum = rollDice()\n",
        "if sum == 7 or sum == 11:\n",
        "    gameStatus = \"WON\"\n",
        "elif sum == 2 or sum == 3 or sum == 12:\n",
        "    gameStatus = \"LOST\"\n",
        "else:\n",
        "    gameStatus = \"CONTINUE\"\n",
        "    myPoint = sum\n",
        "    print(\"Points is: \", myPoint)\n",
        "\n",
        "while gameStatus == 'CONTINUE':\n",
        "    sum = rollDice()\n",
        "\n",
        "    if sum == myPoint:\n",
        "        gameStatus = \"WON\"\n",
        "    elif sum == 7:\n",
        "        gameStatus = \"LOST\"\n",
        "\n",
        "if gameStatus == \"WON\":\n",
        "    print(\"Player wins!\")\n",
        "else:\n",
        "    print(\"Player loses!\")"
      ],
      "metadata": {
        "colab": {
          "base_uri": "https://localhost:8080/"
        },
        "id": "zGCFoDke3fk_",
        "outputId": "8439fce6-1a34-4e95-b738-14306385b524"
      },
      "execution_count": null,
      "outputs": [
        {
          "output_type": "stream",
          "name": "stdout",
          "text": [
            "Player rolled 6 + 4 = 10\n",
            "Points is:  10\n",
            "Player rolled 5 + 3 = 8\n",
            "Player rolled 4 + 5 = 9\n",
            "Player rolled 4 + 3 = 7\n",
            "Player loses!\n"
          ]
        }
      ]
    },
    {
      "cell_type": "markdown",
      "source": [
        "## This code comes from youtube\n",
        "[YouTube Link](https://www.youtube.com/watch?v=FsAPt_9Bf3U&t=978s)"
      ],
      "metadata": {
        "id": "NceaHBsXBAky"
      }
    },
    {
      "cell_type": "code",
      "source": [
        "def decorator_function(original_function):\n",
        "    def wrapper_function(*args, **kwargs):\n",
        "        print(\"wrapper executed this before {} \".format(original_function.__name__))\n",
        "        return original_function(*args, **kwargs)\n",
        "    return wrapper_function\n",
        "\n",
        "@decorator_function\n",
        "def display():\n",
        "    print(\"Display function ran\")\n",
        "\n",
        "@decorator_function\n",
        "def display_info(name, age):\n",
        "    print(\"display_info ran with arguments ({}, {})\".format(name, age))\n",
        "\n",
        "display_info(\"Rhio\", 45)\n",
        "display()"
      ],
      "metadata": {
        "id": "LteMemccBVah",
        "outputId": "f861833e-086f-4963-8efa-4e6a4a2badd2",
        "colab": {
          "base_uri": "https://localhost:8080/"
        }
      },
      "execution_count": 2,
      "outputs": [
        {
          "output_type": "stream",
          "name": "stdout",
          "text": [
            "wrapper executed this before display_info \n",
            "display_info ran with arguments (Rhio, 45)\n",
            "wrapper executed this before display \n",
            "Display function ran\n"
          ]
        }
      ]
    }
  ]
}
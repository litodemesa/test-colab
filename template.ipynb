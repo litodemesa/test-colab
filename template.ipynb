{
  "nbformat": 4,
  "nbformat_minor": 0,
  "metadata": {
    "colab": {
      "provenance": [],
      "mount_file_id": "1Dbr9YYTuAEcrIfGD9SZPO1IA_BFSElyZ",
      "authorship_tag": "ABX9TyNnPOGkR1QO64J7zefF6vE4",
      "include_colab_link": true
    },
    "kernelspec": {
      "name": "python3",
      "display_name": "Python 3"
    },
    "language_info": {
      "name": "python"
    }
  },
  "cells": [
    {
      "cell_type": "markdown",
      "metadata": {
        "id": "view-in-github",
        "colab_type": "text"
      },
      "source": [
        "<a href=\"https://colab.research.google.com/github/litodemesa/test-colab/blob/main/template.ipynb\" target=\"_parent\"><img src=\"https://colab.research.google.com/assets/colab-badge.svg\" alt=\"Open In Colab\"/></a>"
      ]
    },
    {
      "cell_type": "markdown",
      "source": [
        "## Code"
      ],
      "metadata": {
        "id": "LTYd_iN665em"
      }
    },
    {
      "cell_type": "code",
      "execution_count": 1,
      "metadata": {
        "colab": {
          "base_uri": "https://localhost:8080/"
        },
        "id": "2d7zWpi2wipU",
        "outputId": "e550d47b-2fed-4dc8-8ec7-c0e46f4d6485"
      },
      "outputs": [
        {
          "output_type": "stream",
          "name": "stdout",
          "text": [
            "Hello World!\n"
          ]
        }
      ],
      "source": [
        "print(\"Hello World!\")"
      ]
    },
    {
      "cell_type": "code",
      "source": [
        "print(\"Hello Colab\")"
      ],
      "metadata": {
        "id": "zs4YP1iH46uK"
      },
      "execution_count": null,
      "outputs": []
    },
    {
      "cell_type": "markdown",
      "source": [
        "## Summary"
      ],
      "metadata": {
        "id": "tjgxN4hk7ORw"
      }
    },
    {
      "cell_type": "code",
      "source": [
        "import numpy as np\n",
        "\n",
        "data = np.random.rand(1, 30)\n",
        "data\n"
      ],
      "metadata": {
        "id": "myfiGEbG6sUD",
        "outputId": "068d75ee-14fd-4c24-8214-32ba26ce152d",
        "colab": {
          "base_uri": "https://localhost:8080/"
        }
      },
      "execution_count": 4,
      "outputs": [
        {
          "output_type": "execute_result",
          "data": {
            "text/plain": [
              "array([[0.06982117, 0.39180935, 0.19621058, 0.80178994, 0.96310201,\n",
              "        0.35043634, 0.33533347, 0.39660981, 0.21652859, 0.08474914,\n",
              "        0.86786816, 0.58053464, 0.76846026, 0.33593168, 0.79528984,\n",
              "        0.90807198, 0.88090115, 0.98686184, 0.56324728, 0.26646024,\n",
              "        0.55544122, 0.67854348, 0.30242929, 0.79246751, 0.65892017,\n",
              "        0.56568588, 0.37253296, 0.00899439, 0.42582727, 0.80547843]])"
            ]
          },
          "metadata": {},
          "execution_count": 4
        }
      ]
    }
  ]
}